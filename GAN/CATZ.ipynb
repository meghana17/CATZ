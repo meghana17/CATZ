{
  "nbformat": 4,
  "nbformat_minor": 0,
  "metadata": {
    "accelerator": "GPU",
    "colab": {
      "name": "CATZ.ipynb",
      "provenance": []
    },
    "kernelspec": {
      "display_name": "Python 3",
      "language": "python",
      "name": "python3"
    },
    "language_info": {
      "codemirror_mode": {
        "name": "ipython",
        "version": 3
      },
      "file_extension": ".py",
      "mimetype": "text/x-python",
      "name": "python",
      "nbconvert_exporter": "python",
      "pygments_lexer": "ipython3",
      "version": "3.6.8"
    }
  },
  "cells": [
    {
      "cell_type": "code",
      "metadata": {
        "id": "sjzBrC8K98av"
      },
      "source": [
        "import numpy as np\r\n",
        "import getopt\r\n",
        "import sys\r\n",
        "from glob import glob\r\n",
        "import os\r\n",
        "\r\n",
        "import constants as c\r\n",
        "from utils import process_clip"
      ],
      "execution_count": null,
      "outputs": []
    },
    {
      "cell_type": "code",
      "metadata": {
        "id": "jhWcnxu1TRBQ"
      },
      "source": [
        "!python3 utils.py"
      ],
      "execution_count": null,
      "outputs": []
    },
    {
      "cell_type": "code",
      "metadata": {
        "id": "5x9m3FHn79Ep"
      },
      "source": [
        "def process_training_data(num_clips):\r\n",
        "    num_prev_clips = len(glob(TRAIN_DIR_CLIPS + '*'))\r\n",
        "\r\n",
        "    for clip_num in range(num_prev_clips, num_clips + num_prev_clips):\r\n",
        "        clip = process_clip()\r\n",
        "        \r\n",
        "        np.savez_compressed(TRAIN_DIR_CLIPS + str(clip_num), clip)\r\n",
        "\r\n",
        "        if (clip_num + 1) % 100 == 0: print ('Processed %d clips' % (clip_num + 1))"
      ],
      "execution_count": null,
      "outputs": []
    },
    {
      "cell_type": "code",
      "metadata": {
        "id": "oLyPFks379yE"
      },
      "source": [
        "num_clips = 6\r\n",
        "TRAIN_DIR = get_dir(/content/drive/MyDrive/GAN/catz_data')\r\n",
        "FULL_HEIGHT, FULL_WIDTH = get_train_frame_dims()\r\n",
        "process_training_data(num_clips)"
      ],
      "execution_count": null,
      "outputs": []
    },
    {
      "cell_type": "code",
      "metadata": {
        "id": "YfkrBsB23HH-"
      },
      "source": [
        "!python3 runner.py"
      ],
      "execution_count": null,
      "outputs": []
    },
    {
      "cell_type": "code",
      "metadata": {
        "id": "pnDRiVOc-qp7"
      },
      "source": [
        ""
      ],
      "execution_count": null,
      "outputs": []
    },
    {
      "cell_type": "code",
      "metadata": {
        "id": "0I1nG5UP-qyu"
      },
      "source": [
        ""
      ],
      "execution_count": null,
      "outputs": []
    }
  ]
}